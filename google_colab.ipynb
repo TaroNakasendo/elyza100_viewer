{
 "cells": [
  {
   "cell_type": "markdown",
   "metadata": {},
   "source": [
    "### elyza/ELYZA-tasks-100データセットの確認ツール　[![Open In Colab](https://colab.research.google.com/assets/colab-badge.svg)](http://colab.research.google.com/github/TaroNakasendo/elyza100_viewer/blob/main/google_colab.ipynb)"
   ]
  },
  {
   "cell_type": "code",
   "execution_count": null,
   "metadata": {},
   "outputs": [],
   "source": [
    "# 準備\n",
    "%pip install -q gradio datasets"
   ]
  },
  {
   "cell_type": "markdown",
   "metadata": {},
   "source": [
    "メインの処理"
   ]
  },
  {
   "cell_type": "code",
   "execution_count": null,
   "metadata": {},
   "outputs": [],
   "source": [
    "import gradio as gr\n",
    "from datasets import load_dataset\n",
    "\n",
    "title = \"elyza/ELYZA-tasks-100データセットの確認ツール\"\n",
    "\n",
    "# データセットのロード\n",
    "ds = load_dataset(\"elyza/ELYZA-tasks-100\")\n",
    "data = ds[\"test\"]\n",
    "current_index = {\"index\": 0}\n",
    "\n",
    "\n",
    "# データを表示する関数\n",
    "def display_data(index, direction):\n",
    "    i = int(index) if index.isdigit() else 0\n",
    "    if direction == \"next\":\n",
    "        if i + 1 < len(data):\n",
    "            i += 1\n",
    "    elif direction == \"prev\":\n",
    "        if 0 < i:\n",
    "            i -= 1\n",
    "    else:\n",
    "        i = min(max(i, 0), len(data) - 1)\n",
    "\n",
    "    item = data[i]\n",
    "    return i, item[\"input\"], item[\"output\"], item[\"eval_aspect\"]\n",
    "\n",
    "\n",
    "shortcut_js = \"\"\"\n",
    "<script>\n",
    "function shortcuts(e) {\n",
    "\n",
    "    if (e.key ==  'ArrowLeft') {\n",
    "        document.getElementById(\"prev_button\").click();\n",
    "    }\n",
    "    else if (e.key == 'ArrowRight') {\n",
    "        document.getElementById(\"next_button\").click();\n",
    "    }\n",
    "}\n",
    "document.addEventListener('keyup', shortcuts, false);\n",
    "</script>\n",
    "\"\"\"\n",
    "\n",
    "# Gradio インターフェースの構築\n",
    "with gr.Blocks(title=title, head=shortcut_js) as demo:\n",
    "    gr.Markdown(f\"# {title}\")\n",
    "    with gr.Row():\n",
    "        task_id = gr.Textbox(label=f\"タスクID (0 - {len(data) - 1})\")\n",
    "        with gr.Row():\n",
    "            prev_button = gr.Button(\"前へ\", elem_id=\"prev_button\")\n",
    "            next_button = gr.Button(\"次へ\", elem_id=\"next_button\")\n",
    "    input_display = gr.Textbox(label=\"Input\", interactive=False)\n",
    "    output_display = gr.Textbox(label=\"Output\", interactive=False)\n",
    "    eval_display = gr.Textbox(label=\"Eval Aspect\", interactive=False)\n",
    "\n",
    "    # ボタンの動作\n",
    "    task_id.submit(\n",
    "        display_data,\n",
    "        inputs=[task_id, gr.Textbox(value=task_id, visible=False)],\n",
    "        outputs=[task_id, input_display, output_display, eval_display],\n",
    "    )\n",
    "    prev_button.click(\n",
    "        display_data,\n",
    "        inputs=[task_id, gr.Textbox(value=\"prev\", visible=False)],\n",
    "        outputs=[task_id, input_display, output_display, eval_display],\n",
    "    )\n",
    "    next_button.click(\n",
    "        display_data,\n",
    "        inputs=[task_id, gr.Textbox(value=\"next\", visible=False)],\n",
    "        outputs=[task_id, input_display, output_display, eval_display],\n",
    "    )\n",
    "\n",
    "    # 起動時の表示\n",
    "    demo.load(\n",
    "        fn=display_data,\n",
    "        inputs=[gr.Textbox(value=\"0\", visible=False)],\n",
    "        outputs=[task_id, input_display, output_display, eval_display],\n",
    "    )\n",
    "\n",
    "# アプリ起動\n",
    "demo.launch()\n",
    "\n"
   ]
  },
  {
   "cell_type": "markdown",
   "metadata": {},
   "source": [
    "Gradioの画面が表示されますが狭いので、表示されている`https://xxxxxxxxxxxxxxxxx.gradio.live`へのリンクを開くと大きな画面で操作することができます。"
   ]
  }
 ],
 "metadata": {
  "language_info": {
   "name": "python"
  }
 },
 "nbformat": 4,
 "nbformat_minor": 2
}
